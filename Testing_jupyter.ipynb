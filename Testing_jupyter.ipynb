{
 "cells": [
  {
   "cell_type": "markdown",
   "metadata": {},
   "source": [
    "# TP1\n",
    "Gráfico y cálculos de los ejercicios 9 $\\&$ 11.\n",
    "\n",
    "## Ecuación de Atmósfera Hidrostática:\n",
    "\n",
    "\\begin{equation}\n",
    "\\frac{\\Delta P}{\\Delta Z} = - \\rho g\n",
    "\\end{equation}\n",
    "\n",
    "## Ecuación de Atmósfera Isotérmica:\n",
    "\n",
    "\\begin{equation}\n",
    "P(z) = P_{0} e^{(-\\frac{z}{H})}\n",
    "\\end{equation}"
   ]
  },
  {
   "cell_type": "code",
   "execution_count": 16,
   "metadata": {},
   "outputs": [],
   "source": [
    "import numpy as np\n",
    "import matplotlib.pyplot as plt"
   ]
  },
  {
   "cell_type": "markdown",
   "metadata": {},
   "source": [
    "Definimos los parametros para ambos modelos de atmósfera: Densidad ($\\rho$), valor de g, Espesor H, presión en superficie (p0) y las alturas donde queremos estimat el valor de la presión."
   ]
  },
  {
   "cell_type": "code",
   "execution_count": 17,
   "metadata": {},
   "outputs": [],
   "source": [
    "Z = [100,500,1000,2000,5000,6500,8000] # Definimos las alturas donde estimar la presión\n",
    "\n",
    "g = 9.8          # gravedad\n",
    "p0 = 102000      # Presión en superficie\n",
    "densidad = 1.225 # Densidad\n",
    "ph = np.zeros(len(Z))\n",
    "pi = np.zeros(len(Z))\n",
    "H = 8500         # Espesor H para atm. isotérmica"
   ]
  },
  {
   "cell_type": "code",
   "execution_count": 18,
   "metadata": {},
   "outputs": [
    {
     "name": "stdout",
     "output_type": "stream",
     "text": [
      "Altura: 100 m Presión: 1008.0 hPa\n",
      "Altura: 500 m Presión: 959.98 hPa\n",
      "Altura: 1000 m Presión: 899.95 hPa\n",
      "Altura: 2000 m Presión: 779.9 hPa\n",
      "Altura: 5000 m Presión: 419.75 hPa\n",
      "Altura: 6500 m Presión: 239.67 hPa\n",
      "Altura: 8000 m Presión: 59.6 hPa\n"
     ]
    }
   ],
   "source": [
    "for i in np.arange(0,len(Z)):\n",
    "    ph[i] = -densidad * g * Z[i] +p0\n",
    "    print('Altura:',Z[i],'m',\"Presión:\",round(ph[i]/100,2),'hPa')"
   ]
  },
  {
   "cell_type": "code",
   "execution_count": 19,
   "metadata": {},
   "outputs": [
    {
     "name": "stdout",
     "output_type": "stream",
     "text": [
      "Altura: 100 m Presión: 1008.07 hPa\n",
      "Altura: 500 m Presión: 961.73 hPa\n",
      "Altura: 1000 m Presión: 906.79 hPa\n",
      "Altura: 2000 m Presión: 806.15 hPa\n",
      "Altura: 5000 m Presión: 566.41 hPa\n",
      "Altura: 6500 m Presión: 474.78 hPa\n",
      "Altura: 8000 m Presión: 397.97 hPa\n"
     ]
    }
   ],
   "source": [
    "for i in np.arange(0,len(Z)):\n",
    "    pi[i] = (p0/100)*np.exp(-Z[i]/H)\n",
    "    print(\"Altura:\",Z[i],'m','Presión:',round(pi[i],2),'hPa')"
   ]
  },
  {
   "cell_type": "code",
   "execution_count": 20,
   "metadata": {},
   "outputs": [
    {
     "data": {
      "image/png": "[encoded data removed]",
      "text/plain": [
       "<Figure size 432x288 with 1 Axes>"
      ]
     },
     "metadata": {
      "needs_background": "light"
     },
     "output_type": "display_data"
    }
   ],
   "source": [
    "plt.plot(Z,ph/100.,'g*-',label= 'Hidrostática')\n",
    "plt.plot(Z,pi,'r*-',label= 'Isotérmica')\n",
    "plt.xlabel('Altura (m)')\n",
    "plt.ylabel('Presión (hPa)')\n",
    "plt.legend()\n",
    "plt.show()"
   ]
  },
  {
   "cell_type": "code",
   "execution_count": 21,
   "metadata": {},
   "outputs": [],
   "source": [
    "np.savetxt('presion_hidrostatica.txt',ph)\n",
    "np.savetxt('presion_isotermica.txt',pi)"
   ]
  },
  {
   "cell_type": "code",
   "execution_count": 22,
   "metadata": {},
   "outputs": [
    {
     "data": {
      "text/plain": [
       "<Figure size 432x288 with 0 Axes>"
      ]
     },
     "metadata": {},
     "output_type": "display_data"
    }
   ],
   "source": [
    "plt.savefig('Comparación_de_presiones.pdf',format='pdf')"
   ]
  },
  {
   "cell_type": "code",
   "execution_count": null,
   "metadata": {},
   "outputs": [],
   "source": []
  }
 ],
 "metadata": {
  "kernelspec": {
   "display_name": "Python 3",
   "language": "python",
   "name": "python3"
  },
  "language_info": {
   "codemirror_mode": {
    "name": "ipython",
    "version": 3
   },
   "file_extension": ".py",
   "mimetype": "text/x-python",
   "name": "python",
   "nbconvert_exporter": "python",
   "pygments_lexer": "ipython3",
   "version": "3.6.6"
  }
 },
 "nbformat": 4,
 "nbformat_minor": 2
}
